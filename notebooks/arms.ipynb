{
 "cells": [
  {
   "cell_type": "code",
   "execution_count": 1,
   "id": "015f9f81-f041-4896-9394-21393ee122a1",
   "metadata": {},
   "outputs": [],
   "source": [
    "from raya.standalone_handler import StandaloneHandler\n",
    "from raya.enumerations import ANG_UNIT, POS_UNIT"
   ]
  },
  {
   "cell_type": "code",
   "execution_count": 2,
   "id": "7bb7e66b-0921-4e9b-9f1e-b3fd5437a44e",
   "metadata": {},
   "outputs": [],
   "source": [
    "raya = StandaloneHandler()\n",
    "await raya.start()"
   ]
  },
  {
   "cell_type": "markdown",
   "id": "97d25649-003e-4f3f-b1a1-b352367d8593",
   "metadata": {},
   "source": [
    "Controllers"
   ]
  },
  {
   "cell_type": "code",
   "execution_count": 3,
   "id": "3bd71a9f-a5fc-4439-8ca6-1ff4687a9a13",
   "metadata": {},
   "outputs": [],
   "source": [
    "arms = await raya.enable_controller('arms')"
   ]
  },
  {
   "cell_type": "markdown",
   "id": "625e15be-8edc-49cc-a957-b603c1b0d4ae",
   "metadata": {},
   "source": [
    "# Checking Arm"
   ]
  },
  {
   "cell_type": "code",
   "execution_count": 16,
   "id": "2376b5ef-7e21-4c34-ba96-0ded9c0e8e4a",
   "metadata": {},
   "outputs": [
    {
     "data": {
      "text/plain": [
       "()"
      ]
     },
     "execution_count": 16,
     "metadata": {},
     "output_type": "execute_result"
    }
   ],
   "source": [
    "await arms.set_predefined_pose('right_arm','home', wait=True)"
   ]
  },
  {
   "cell_type": "code",
   "execution_count": 49,
   "id": "56143452-f63e-4e8e-aaaa-def9b8dee638",
   "metadata": {
    "tags": []
   },
   "outputs": [
    {
     "data": {
      "text/plain": [
       "()"
      ]
     },
     "execution_count": 49,
     "metadata": {},
     "output_type": "execute_result"
    }
   ],
   "source": [
    "await arms.set_predefined_pose('right_arm','pre_pick', wait=True)"
   ]
  },
  {
   "cell_type": "code",
   "execution_count": 43,
   "id": "f62f3616-a93d-4c02-970f-5c7bc0fc9665",
   "metadata": {},
   "outputs": [
    {
     "data": {
      "text/plain": [
       "['arm_right_shoulder_rail_joint',\n",
       " 'arm_right_shoulder_FR_joint',\n",
       " 'arm_right_shoulder_RL_joint',\n",
       " 'arm_right_bicep_twist_joint',\n",
       " 'arm_right_bicep_FR_joint',\n",
       " 'arm_right_elbow_twist_joint',\n",
       " 'arm_right_elbow_FR_joint',\n",
       " 'arm_right_wrist_joint']"
      ]
     },
     "execution_count": 43,
     "metadata": {},
     "output_type": "execute_result"
    }
   ],
   "source": [
    "joint_names = (await arms.get_current_joint_values('right_arm'))['names']\n",
    "joint_names"
   ]
  },
  {
   "cell_type": "code",
   "execution_count": 60,
   "id": "abc952e6-2f5d-49fe-9038-2b668332ec4f",
   "metadata": {},
   "outputs": [],
   "source": [
    "SEQUENCE_WAVE = [\n",
    "        [\n",
    "            0.0,\n",
    "            0.475,\n",
    "            -0.1225,\n",
    "            0.665,\n",
    "            2.0944,\n",
    "            -1.57,\n",
    "            -0.08749999999999999,\n",
    "            1.05,\n",
    "        ],\n",
    "        [\n",
    "            0.0,\n",
    "            0.475,\n",
    "            -0.1225,\n",
    "            0.665,\n",
    "            2.0944,\n",
    "            -1.57,\n",
    "            -0.08749999999999999,\n",
    "            0.05,\n",
    "        ],\n",
    "    ]\n"
   ]
  },
  {
   "cell_type": "code",
   "execution_count": 68,
   "id": "3b3d4c04-723c-4c10-9d94-89dbaaac3072",
   "metadata": {},
   "outputs": [],
   "source": [
    "await arms.execute_joint_values_array(\n",
    "        arm='right_arm',\n",
    "        joint_values=3*SEQUENCE_WAVE,\n",
    "        units=ANG_UNIT.RAD\n",
    "    )"
   ]
  },
  {
   "cell_type": "code",
   "execution_count": 97,
   "id": "8f00c055-a506-4c9c-9313-6d54206ecb98",
   "metadata": {},
   "outputs": [
    {
     "data": {
      "text/plain": [
       "False"
      ]
     },
     "execution_count": 97,
     "metadata": {},
     "output_type": "execute_result"
    },
    {
     "name": "stderr",
     "output_type": "stream",
     "text": [
      "/usr/local/lib/python3.8/dist-packages/IPython/core/interactiveshell.py:1399: RuntimeWarning: coroutine 'ArmsController.get_current_joint_values' was never awaited\n",
      "  self.user_ns_hidden.clear()\n",
      "RuntimeWarning: Enable tracemalloc to get the object allocation traceback\n"
     ]
    }
   ],
   "source": [
    "\n",
    "arms.is_any_arm_in_execution()"
   ]
  },
  {
   "cell_type": "code",
   "execution_count": null,
   "id": "253d4779-21f3-47a6-9f50-4b4b30db183a",
   "metadata": {},
   "outputs": [],
   "source": []
  }
 ],
 "metadata": {
  "kernelspec": {
   "display_name": "Python 3 (ipykernel)",
   "language": "python",
   "name": "python3"
  },
  "language_info": {
   "codemirror_mode": {
    "name": "ipython",
    "version": 3
   },
   "file_extension": ".py",
   "mimetype": "text/x-python",
   "name": "python",
   "nbconvert_exporter": "python",
   "pygments_lexer": "ipython3",
   "version": "3.8.10"
  }
 },
 "nbformat": 4,
 "nbformat_minor": 5
}
