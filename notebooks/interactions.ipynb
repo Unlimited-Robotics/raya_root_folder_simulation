{
 "cells": [
  {
   "cell_type": "markdown",
   "id": "bf7241f9-c06c-4e92-84fe-19d3ff9dfe3a",
   "metadata": {},
   "source": [
    "# Interactions"
   ]
  },
  {
   "cell_type": "code",
   "execution_count": 1,
   "id": "384eba6d-39e5-49bb-a4e5-eca1c5897921",
   "metadata": {},
   "outputs": [],
   "source": [
    "import random"
   ]
  },
  {
   "cell_type": "code",
   "execution_count": 2,
   "id": "0bbbaf51-9bf7-4d2a-b390-6ca0486eac41",
   "metadata": {},
   "outputs": [],
   "source": [
    "from raya.standalone_handler import StandaloneHandler\n",
    "from raya.enumerations import ANG_UNIT, POS_UNIT"
   ]
  },
  {
   "cell_type": "code",
   "execution_count": 3,
   "id": "bba54cb4-4387-4b49-b540-e35f86aa5009",
   "metadata": {},
   "outputs": [],
   "source": [
    "raya = StandaloneHandler()\n",
    "await raya.start()"
   ]
  },
  {
   "cell_type": "markdown",
   "id": "93e71b19-2176-4237-879a-3b4a9befc2f0",
   "metadata": {},
   "source": [
    "Controllers"
   ]
  },
  {
   "cell_type": "code",
   "execution_count": 4,
   "id": "0bbce95e-fab3-4bd0-afb6-2b10a6a4dff7",
   "metadata": {},
   "outputs": [],
   "source": [
    "leds = await raya.enable_controller('leds')\n",
    "interactions = await raya.enable_controller('interactions')\n",
    "sound = await raya.enable_controller('sound')"
   ]
  },
  {
   "cell_type": "markdown",
   "id": "52145069-b951-459f-904d-6b21c1eeb2e8",
   "metadata": {},
   "source": [
    "## Sound"
   ]
  },
  {
   "cell_type": "markdown",
   "id": "85d93471-c339-4854-a266-9608e8ddace3",
   "metadata": {},
   "source": [
    "Predefined sounds"
   ]
  },
  {
   "cell_type": "code",
   "execution_count": 5,
   "id": "8cd3fa41-0973-4769-99ec-cb74ebc94b35",
   "metadata": {},
   "outputs": [
    {
     "data": {
      "text/plain": [
       "['attention',\n",
       " 'very_low_battery',\n",
       " 'malfunction',\n",
       " 'success',\n",
       " 'task_received',\n",
       " 'task_finished',\n",
       " 'error',\n",
       " 'charging']"
      ]
     },
     "execution_count": 5,
     "metadata": {},
     "output_type": "execute_result"
    }
   ],
   "source": [
    "predefined_sounds = sound.get_predefined_sounds()\n",
    "predefined_sounds"
   ]
  },
  {
   "cell_type": "markdown",
   "id": "c703483b-50ba-4a62-a657-df47f29bef47",
   "metadata": {},
   "source": [
    "Play predefined sound"
   ]
  },
  {
   "cell_type": "code",
   "execution_count": 31,
   "id": "5c28ae2d-45ce-48c5-88ca-9d050004b439",
   "metadata": {},
   "outputs": [
    {
     "data": {
      "text/plain": [
       "()"
      ]
     },
     "execution_count": 31,
     "metadata": {},
     "output_type": "execute_result"
    }
   ],
   "source": [
    "await sound.play_predefined_sound('error')"
   ]
  },
  {
   "cell_type": "markdown",
   "id": "6bdd8e5c-dc67-4149-a18c-05cc6f685817",
   "metadata": {},
   "source": [
    "## LEDs"
   ]
  },
  {
   "cell_type": "markdown",
   "id": "a563b39d-7d99-4d8c-bfb6-39d0a36a0117",
   "metadata": {},
   "source": [
    "LEDs groups"
   ]
  },
  {
   "cell_type": "code",
   "execution_count": 9,
   "id": "87bfc561-27c9-4599-abab-ac4191e8553b",
   "metadata": {},
   "outputs": [
    {
     "data": {
      "text/plain": [
       "['skirt', 'head', 'sensors', 'chest']"
      ]
     },
     "execution_count": 9,
     "metadata": {},
     "output_type": "execute_result"
    }
   ],
   "source": [
    "leds_groups = leds.get_groups()\n",
    "leds_groups"
   ]
  },
  {
   "cell_type": "markdown",
   "id": "2f092f93-23df-4d92-8daf-bec416874f1c",
   "metadata": {},
   "source": [
    "Set a group"
   ]
  },
  {
   "cell_type": "code",
   "execution_count": 10,
   "id": "566e8228-a3f1-4e62-971f-be7fdf5a2322",
   "metadata": {},
   "outputs": [],
   "source": [
    "LEDS_GROUP = 'head'"
   ]
  },
  {
   "cell_type": "markdown",
   "id": "10ea2057-5f88-4360-88a4-0fdb6f3b8811",
   "metadata": {},
   "source": [
    "Animations of LEDS_GROUP LEDs group"
   ]
  },
  {
   "cell_type": "code",
   "execution_count": 11,
   "id": "83ba71fe-eca9-4424-9c48-7734ecf1c140",
   "metadata": {},
   "outputs": [
    {
     "data": {
      "text/plain": [
       "['motion_1',\n",
       " 'motion_4',\n",
       " 'motion_7',\n",
       " 'motion_8',\n",
       " 'motion_10',\n",
       " 'motion_12',\n",
       " 'motion_6',\n",
       " 'static_line',\n",
       " 'motion_4_in',\n",
       " 'motion_4_out',\n",
       " 'motion_6_in',\n",
       " 'motion_6_out',\n",
       " 'motion_7_in',\n",
       " 'motion_7_out',\n",
       " 'motion_8_in',\n",
       " 'motion_8_out',\n",
       " 'motion_12_in',\n",
       " 'motion_12_out']"
      ]
     },
     "execution_count": 11,
     "metadata": {},
     "output_type": "execute_result"
    }
   ],
   "source": [
    "leds_animations = leds.get_animations(LEDS_GROUP)\n",
    "leds_animations"
   ]
  },
  {
   "cell_type": "markdown",
   "id": "578c6fbe-bbb5-46bc-85f5-06d4de7dab94",
   "metadata": {},
   "source": [
    "Colors of LEDS_GROUP LEDs group"
   ]
  },
  {
   "cell_type": "code",
   "execution_count": 12,
   "id": "5e5fff7e-5fc2-477b-8723-d32fcd4e15e4",
   "metadata": {},
   "outputs": [
    {
     "data": {
      "text/plain": [
       "['white',\n",
       " 'red_basic',\n",
       " 'red_general',\n",
       " 'red_pressed',\n",
       " 'blue_basic',\n",
       " 'blue_general',\n",
       " 'blue_pressed',\n",
       " 'green_basic',\n",
       " 'green_general',\n",
       " 'green_pressed',\n",
       " 'rainbow',\n",
       " 'moving_rainbow']"
      ]
     },
     "execution_count": 12,
     "metadata": {},
     "output_type": "execute_result"
    }
   ],
   "source": [
    "leds_colors = leds.get_colors(LEDS_GROUP)\n",
    "leds_colors"
   ]
  },
  {
   "cell_type": "markdown",
   "id": "46d94d18-e61d-4f75-9343-6201b90b5f83",
   "metadata": {},
   "source": [
    "Max speed of LEDS_GROUP LEDs group"
   ]
  },
  {
   "cell_type": "code",
   "execution_count": 13,
   "id": "c8c25304-e0da-430d-80b1-77629cbf82ff",
   "metadata": {},
   "outputs": [
    {
     "data": {
      "text/plain": [
       "17"
      ]
     },
     "execution_count": 13,
     "metadata": {},
     "output_type": "execute_result"
    }
   ],
   "source": [
    "leds_max_speed = leds.get_max_speed(LEDS_GROUP)\n",
    "leds_max_speed"
   ]
  },
  {
   "cell_type": "markdown",
   "id": "8d55e93e-f9e6-45e1-aebe-e0cf62ac0493",
   "metadata": {},
   "source": [
    "Play LEDs anumation"
   ]
  },
  {
   "cell_type": "code",
   "execution_count": 17,
   "id": "60a3710d-088d-4fb4-8ea2-c424d55d5553",
   "metadata": {},
   "outputs": [
    {
     "data": {
      "text/plain": [
       "()"
      ]
     },
     "execution_count": 17,
     "metadata": {},
     "output_type": "execute_result"
    }
   ],
   "source": [
    "await leds.animation(\n",
    "    group=LEDS_GROUP,\n",
    "    color='red_general',\n",
    "    animation='motion_1',\n",
    "    speed=1,\n",
    "    repetitions=1,\n",
    ")"
   ]
  },
  {
   "cell_type": "markdown",
   "id": "592cf63e-5bda-47ce-a6d8-5f280d0f1a16",
   "metadata": {},
   "source": [
    "## Interactions"
   ]
  },
  {
   "cell_type": "markdown",
   "id": "f3051fb9-624e-4629-abf4-c64101734f95",
   "metadata": {},
   "source": [
    "List of available interactions"
   ]
  },
  {
   "cell_type": "code",
   "execution_count": 55,
   "id": "25fc9056-d108-4d99-a52e-19942926484d",
   "metadata": {},
   "outputs": [
    {
     "data": {
      "text/plain": [
       "['performing_task', 'task_received', 'task_finished']"
      ]
     },
     "execution_count": 55,
     "metadata": {},
     "output_type": "execute_result"
    }
   ],
   "source": [
    "interactions_list = interactions.get_interactions()\n",
    "interactions_list"
   ]
  },
  {
   "cell_type": "markdown",
   "id": "e6022d99-1224-4485-a52f-d3b9c4138ebe",
   "metadata": {},
   "source": [
    "Play interaction"
   ]
  },
  {
   "cell_type": "code",
   "execution_count": 60,
   "id": "63104bd2-efdc-4f86-8494-36913cfa6729",
   "metadata": {},
   "outputs": [],
   "source": [
    "await interactions.play_interaction('performing_task')"
   ]
  },
  {
   "cell_type": "code",
   "execution_count": null,
   "id": "e1f35810-f0df-4820-9764-c5f1f3b58da9",
   "metadata": {},
   "outputs": [],
   "source": []
  }
 ],
 "metadata": {
  "kernelspec": {
   "display_name": "Python 3 (ipykernel)",
   "language": "python",
   "name": "python3"
  },
  "language_info": {
   "codemirror_mode": {
    "name": "ipython",
    "version": 3
   },
   "file_extension": ".py",
   "mimetype": "text/x-python",
   "name": "python",
   "nbconvert_exporter": "python",
   "pygments_lexer": "ipython3",
   "version": "3.8.10"
  }
 },
 "nbformat": 4,
 "nbformat_minor": 5
}
