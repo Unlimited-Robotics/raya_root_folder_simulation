{
 "cells": [
  {
   "cell_type": "code",
   "execution_count": 1,
   "id": "015f9f81-f041-4896-9394-21393ee122a1",
   "metadata": {},
   "outputs": [],
   "source": [
    "from raya.standalone_handler import StandaloneHandler\n",
    "from raya.enumerations import ANG_UNIT, POS_UNIT"
   ]
  },
  {
   "cell_type": "code",
   "execution_count": 2,
   "id": "7bb7e66b-0921-4e9b-9f1e-b3fd5437a44e",
   "metadata": {},
   "outputs": [],
   "source": [
    "raya = StandaloneHandler()\n",
    "await raya.start()"
   ]
  },
  {
   "cell_type": "markdown",
   "id": "97d25649-003e-4f3f-b1a1-b352367d8593",
   "metadata": {},
   "source": [
    "Controllers"
   ]
  },
  {
   "cell_type": "code",
   "execution_count": 3,
   "id": "3bd71a9f-a5fc-4439-8ca6-1ff4687a9a13",
   "metadata": {},
   "outputs": [],
   "source": [
    "motion = await raya.enable_controller('motion')"
   ]
  },
  {
   "cell_type": "code",
   "execution_count": null,
   "id": "be95b2a5-0b92-4fc8-9617-9d50a204e340",
   "metadata": {},
   "outputs": [],
   "source": []
  },
  {
   "cell_type": "code",
   "execution_count": 7,
   "id": "41ab9fa2-c36e-4c83-995f-63d87544c405",
   "metadata": {},
   "outputs": [
    {
     "ename": "RayaUnknownServerError",
     "evalue": "105: FAILED_TO_MAKE_PROGRESS",
     "output_type": "error",
     "traceback": [
      "\u001b[0;31m---------------------------------------------------------------------------\u001b[0m",
      "\u001b[0;31mKeyError\u001b[0m                                  Traceback (most recent call last)",
      "File \u001b[0;32m/opt/raya_os/ur_dev/pyraya/src/raya/exceptions_handler.py:11\u001b[0m, in \u001b[0;36mcheck_raya_exception\u001b[0;34m(map, response)\u001b[0m\n\u001b[1;32m     10\u001b[0m \u001b[38;5;28;01mtry\u001b[39;00m:\n\u001b[0;32m---> 11\u001b[0m     \u001b[38;5;28;01mif\u001b[39;00m \u001b[38;5;28;43mmap\u001b[39;49m\u001b[43m[\u001b[49m\u001b[43merror_code\u001b[49m\u001b[43m]\u001b[49m[\u001b[38;5;241m1\u001b[39m]:\n\u001b[1;32m     12\u001b[0m         \u001b[38;5;28;01mif\u001b[39;00m response\u001b[38;5;241m.\u001b[39mheader\u001b[38;5;241m.\u001b[39merror_msg:\n",
      "\u001b[0;31mKeyError\u001b[0m: 105",
      "\nDuring handling of the above exception, another exception occurred:\n",
      "\u001b[0;31mRayaUnknownServerError\u001b[0m                    Traceback (most recent call last)",
      "Cell \u001b[0;32mIn[7], line 5\u001b[0m\n\u001b[1;32m      1\u001b[0m \u001b[38;5;28;01mimport\u001b[39;00m \u001b[38;5;21;01mtime\u001b[39;00m\n\u001b[1;32m      3\u001b[0m t0 \u001b[38;5;241m=\u001b[39m time\u001b[38;5;241m.\u001b[39mtime()\n\u001b[0;32m----> 5\u001b[0m \u001b[38;5;28;01mawait\u001b[39;00m motion\u001b[38;5;241m.\u001b[39mset_velocity(\n\u001b[1;32m      6\u001b[0m         x_velocity\u001b[38;5;241m=\u001b[39m\u001b[38;5;241m0.1\u001b[39m,\n\u001b[1;32m      7\u001b[0m         y_velocity\u001b[38;5;241m=\u001b[39m\u001b[38;5;241m0.0\u001b[39m,\n\u001b[1;32m      8\u001b[0m         angular_velocity\u001b[38;5;241m=\u001b[39m\u001b[38;5;241m0.0\u001b[39m,\n\u001b[1;32m      9\u001b[0m         duration\u001b[38;5;241m=\u001b[39m\u001b[38;5;241m8.0\u001b[39m,\n\u001b[1;32m     10\u001b[0m         enable_obstacles\u001b[38;5;241m=\u001b[39m\u001b[38;5;28;01mTrue\u001b[39;00m,\n\u001b[1;32m     11\u001b[0m         wait\u001b[38;5;241m=\u001b[39m\u001b[38;5;28;01mTrue\u001b[39;00m,\n\u001b[1;32m     12\u001b[0m )\n\u001b[1;32m     14\u001b[0m \u001b[38;5;28mprint\u001b[39m(time\u001b[38;5;241m.\u001b[39mtime() \u001b[38;5;241m-\u001b[39m t0)\n",
      "File \u001b[0;32m/opt/raya_os/ur_dev/pyraya/src/raya/controllers/motion_controller.py:127\u001b[0m, in \u001b[0;36mMotionController.set_velocity\u001b[0;34m(self, x_velocity, y_velocity, angular_velocity, duration, enable_obstacles, ang_unit, callback_feedback, callback_feedback_async, callback_finish, callback_finish_async, wait)\u001b[0m\n\u001b[1;32m    118\u001b[0m x_velocity, y_velocity, angular_velocity \u001b[38;5;241m=\u001b[39m \\\n\u001b[1;32m    119\u001b[0m             \u001b[38;5;28mself\u001b[39m\u001b[38;5;241m.\u001b[39m__max_speeds(x_velocity, y_velocity, angular_velocity)\n\u001b[1;32m    120\u001b[0m cmd_goal \u001b[38;5;241m=\u001b[39m CmdSetVelocity\u001b[38;5;241m.\u001b[39mGoal(\n\u001b[1;32m    121\u001b[0m         x_velocity\u001b[38;5;241m=\u001b[39mx_velocity,\n\u001b[1;32m    122\u001b[0m         y_velocity\u001b[38;5;241m=\u001b[39my_velocity,\n\u001b[0;32m   (...)\u001b[0m\n\u001b[1;32m    125\u001b[0m         enable_obstacles\u001b[38;5;241m=\u001b[39menable_obstacles\n\u001b[1;32m    126\u001b[0m     )\n\u001b[0;32m--> 127\u001b[0m \u001b[38;5;28;01mreturn\u001b[39;00m \u001b[38;5;28;01mawait\u001b[39;00m \u001b[38;5;28mself\u001b[39m\u001b[38;5;241m.\u001b[39m_send_cmdact_full(\n\u001b[1;32m    128\u001b[0m         command_name\u001b[38;5;241m=\u001b[39m\u001b[38;5;124m'\u001b[39m\u001b[38;5;124mset_velocity\u001b[39m\u001b[38;5;124m'\u001b[39m,\n\u001b[1;32m    129\u001b[0m         cli\u001b[38;5;241m=\u001b[39m\u001b[38;5;28mself\u001b[39m\u001b[38;5;241m.\u001b[39m__cli_cmd_set_velocity,\n\u001b[1;32m    130\u001b[0m         goal\u001b[38;5;241m=\u001b[39mcmd_goal,\n\u001b[1;32m    131\u001b[0m         cb_finish\u001b[38;5;241m=\u001b[39mcallback_finish,\n\u001b[1;32m    132\u001b[0m         cb_finish_async\u001b[38;5;241m=\u001b[39mcallback_finish_async,\n\u001b[1;32m    133\u001b[0m         cb_feedback\u001b[38;5;241m=\u001b[39mcallback_feedback,\n\u001b[1;32m    134\u001b[0m         cb_feedback_async\u001b[38;5;241m=\u001b[39mcallback_feedback_async,\n\u001b[1;32m    135\u001b[0m         wait\u001b[38;5;241m=\u001b[39mwait,\n\u001b[1;32m    136\u001b[0m         exceptions_map\u001b[38;5;241m=\u001b[39mEXCEPTIONS_MAP_MOTION,\n\u001b[1;32m    137\u001b[0m         timeout\u001b[38;5;241m=\u001b[39m\u001b[38;5;241m100.0\u001b[39m\n\u001b[1;32m    138\u001b[0m     )\n",
      "File \u001b[0;32m/opt/raya_os/ur_dev/pyraya/src/raya/controllers/base_controller.py:439\u001b[0m, in \u001b[0;36mBaseController._send_cmdact_full\u001b[0;34m(self, command_name, cli, goal, cb_finish, cb_finish_async, cb_feedback, cb_feedback_async, wait, exceptions_map, timeout)\u001b[0m\n\u001b[1;32m    437\u001b[0m \u001b[38;5;28;01mexcept\u001b[39;00m \u001b[38;5;167;01mException\u001b[39;00m \u001b[38;5;28;01mas\u001b[39;00m e:\n\u001b[1;32m    438\u001b[0m     \u001b[38;5;28;01mdel\u001b[39;00m \u001b[38;5;28mself\u001b[39m\u001b[38;5;241m.\u001b[39m_running_commands[command_name]\n\u001b[0;32m--> 439\u001b[0m     \u001b[38;5;28;01mraise\u001b[39;00m e\n\u001b[1;32m    440\u001b[0m \u001b[38;5;28;01mif\u001b[39;00m action_result\u001b[38;5;241m.\u001b[39mstatus \u001b[38;5;241m!=\u001b[39m GoalStatus\u001b[38;5;241m.\u001b[39mSTATUS_SUCCEEDED:\n\u001b[1;32m    441\u001b[0m     \u001b[38;5;28;01mraise\u001b[39;00m RayaUnknownServerError()\n",
      "File \u001b[0;32m/opt/raya_os/ur_dev/pyraya/src/raya/controllers/base_controller.py:436\u001b[0m, in \u001b[0;36mBaseController._send_cmdact_full\u001b[0;34m(self, command_name, cli, goal, cb_finish, cb_finish_async, cb_feedback, cb_feedback_async, wait, exceptions_map, timeout)\u001b[0m\n\u001b[1;32m    434\u001b[0m     \u001b[38;5;28;01mraise\u001b[39;00m RayaCommandTimeout(command_name)\n\u001b[1;32m    435\u001b[0m \u001b[38;5;28;01mtry\u001b[39;00m:\n\u001b[0;32m--> 436\u001b[0m     \u001b[43mcheck_raya_exception\u001b[49m\u001b[43m(\u001b[49m\u001b[43mexceptions_map\u001b[49m\u001b[43m,\u001b[49m\u001b[43m \u001b[49m\u001b[43mresult\u001b[49m\u001b[43m)\u001b[49m\n\u001b[1;32m    437\u001b[0m \u001b[38;5;28;01mexcept\u001b[39;00m \u001b[38;5;167;01mException\u001b[39;00m \u001b[38;5;28;01mas\u001b[39;00m e:\n\u001b[1;32m    438\u001b[0m     \u001b[38;5;28;01mdel\u001b[39;00m \u001b[38;5;28mself\u001b[39m\u001b[38;5;241m.\u001b[39m_running_commands[command_name]\n",
      "File \u001b[0;32m/opt/raya_os/ur_dev/pyraya/src/raya/exceptions_handler.py:21\u001b[0m, in \u001b[0;36mcheck_raya_exception\u001b[0;34m(map, response)\u001b[0m\n\u001b[1;32m     19\u001b[0m \u001b[38;5;28;01mexcept\u001b[39;00m \u001b[38;5;167;01mKeyError\u001b[39;00m:\n\u001b[1;32m     20\u001b[0m     error_msg \u001b[38;5;241m=\u001b[39m response\u001b[38;5;241m.\u001b[39mheader\u001b[38;5;241m.\u001b[39merror_msg\n\u001b[0;32m---> 21\u001b[0m     \u001b[38;5;28;01mraise\u001b[39;00m RayaUnknownServerError(\u001b[38;5;124mf\u001b[39m\u001b[38;5;124m'\u001b[39m\u001b[38;5;132;01m{\u001b[39;00merror_code\u001b[38;5;132;01m}\u001b[39;00m\u001b[38;5;124m: \u001b[39m\u001b[38;5;132;01m{\u001b[39;00merror_msg\u001b[38;5;132;01m}\u001b[39;00m\u001b[38;5;124m'\u001b[39m)\n",
      "\u001b[0;31mRayaUnknownServerError\u001b[0m: 105: FAILED_TO_MAKE_PROGRESS"
     ]
    }
   ],
   "source": [
    "import time\n",
    "\n",
    "t0 = time.time()\n",
    "\n",
    "await motion.set_velocity(\n",
    "        x_velocity=0.1,\n",
    "        y_velocity=0.0,\n",
    "        angular_velocity=0.0,\n",
    "        duration=8.0,\n",
    "        enable_obstacles=True,\n",
    "        wait=True,\n",
    ")\n",
    "\n",
    "print(time.time() - t0)"
   ]
  },
  {
   "cell_type": "code",
   "execution_count": null,
   "id": "d402b16f-77fa-4e5c-b398-ce197bc32610",
   "metadata": {},
   "outputs": [],
   "source": []
  }
 ],
 "metadata": {
  "kernelspec": {
   "display_name": "Python 3 (ipykernel)",
   "language": "python",
   "name": "python3"
  },
  "language_info": {
   "codemirror_mode": {
    "name": "ipython",
    "version": 3
   },
   "file_extension": ".py",
   "mimetype": "text/x-python",
   "name": "python",
   "nbconvert_exporter": "python",
   "pygments_lexer": "ipython3",
   "version": "3.8.10"
  }
 },
 "nbformat": 4,
 "nbformat_minor": 5
}
