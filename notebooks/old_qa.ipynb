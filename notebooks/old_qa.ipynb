{
 "cells": [
  {
   "cell_type": "markdown",
   "id": "7306822f-02c8-49e0-a646-fd21c30a8bf9",
   "metadata": {
    "tags": []
   },
   "source": [
    "# Basic QA for Raya"
   ]
  },
  {
   "cell_type": "markdown",
   "id": "e7e3d693-b4c8-42ed-b146-3b0a44cd95fc",
   "metadata": {},
   "source": [
    "External Libraries"
   ]
  },
  {
   "cell_type": "code",
   "execution_count": 1,
   "id": "32052221-5353-44cc-8373-69f8c20fb26f",
   "metadata": {
    "tags": []
   },
   "outputs": [],
   "source": [
    "import matplotlib.pyplot as plt\n",
    "import cv2\n",
    "import asyncio\n",
    "import math\n",
    "import numpy as np"
   ]
  },
  {
   "cell_type": "markdown",
   "id": "4743e052-071e-4027-b147-3015dfd6e7ab",
   "metadata": {},
   "source": [
    "Ra-Ya"
   ]
  },
  {
   "cell_type": "code",
   "execution_count": 2,
   "id": "015f9f81-f041-4896-9394-21393ee122a1",
   "metadata": {},
   "outputs": [],
   "source": [
    "from raya.standalone_handler import StandaloneHandler\n",
    "from raya.enumerations import ANG_UNIT, POS_UNIT"
   ]
  },
  {
   "cell_type": "code",
   "execution_count": 3,
   "id": "7bb7e66b-0921-4e9b-9f1e-b3fd5437a44e",
   "metadata": {},
   "outputs": [],
   "source": [
    "raya = StandaloneHandler()\n",
    "await raya.start()"
   ]
  },
  {
   "cell_type": "markdown",
   "id": "97d25649-003e-4f3f-b1a1-b352367d8593",
   "metadata": {},
   "source": [
    "Controllers"
   ]
  },
  {
   "cell_type": "code",
   "execution_count": 11,
   "id": "3bd71a9f-a5fc-4439-8ca6-1ff4687a9a13",
   "metadata": {},
   "outputs": [
    {
     "name": "stderr",
     "output_type": "stream",
     "text": [
      "\u001b[33m(WARNING)<RayaApp.RayaApp> Controller \"lidar\" already enabled.\u001b[0m\n",
      "\u001b[33m(WARNING)<RayaApp.RayaApp> Controller \"leds\" already enabled.\u001b[0m\n",
      "\u001b[33m(WARNING)<RayaApp.RayaApp> Controller \"interactions\" already enabled.\u001b[0m\n",
      "\u001b[33m(WARNING)<RayaApp.RayaApp> Controller \"cameras\" already enabled.\u001b[0m\n",
      "\u001b[33m(WARNING)<RayaApp.RayaApp> Controller \"arms\" already enabled.\u001b[0m\n",
      "\u001b[33m(WARNING)<RayaApp.RayaApp> Controller \"sound\" already enabled.\u001b[0m\n"
     ]
    }
   ],
   "source": [
    "lidar = await raya.enable_controller('lidar')\n",
    "leds = await raya.enable_controller('leds')\n",
    "interactions = await raya.enable_controller('interactions')\n",
    "cameras = await raya.enable_controller('cameras')\n",
    "arms = await raya.enable_controller('arms')\n",
    "sound = await raya.enable_controller('sound')\n",
    "motion = await raya.enable_controller('motion')"
   ]
  },
  {
   "cell_type": "code",
   "execution_count": 6,
   "id": "58ebaf61-8d01-45aa-8b75-45cde1a30d80",
   "metadata": {},
   "outputs": [
    {
     "name": "stdout",
     "output_type": "stream",
     "text": [
      "['attention', 'very_low_battery', 'malfunction', 'success', 'task_received', 'task_finished', 'error', 'charging']\n"
     ]
    }
   ],
   "source": [
    "print(sound.get_predefined_sounds())"
   ]
  },
  {
   "cell_type": "code",
   "execution_count": 8,
   "id": "a3524720-cd16-449c-9680-dff53c21953b",
   "metadata": {},
   "outputs": [
    {
     "data": {
      "text/plain": [
       "()"
      ]
     },
     "execution_count": 8,
     "metadata": {},
     "output_type": "execute_result"
    }
   ],
   "source": [
    "await sound.play_predefined_sound('task_received', volume=100)"
   ]
  },
  {
   "cell_type": "markdown",
   "id": "2d702ce0-e465-46ad-946a-0bbf47498988",
   "metadata": {
    "tags": []
   },
   "source": [
    "# Check motors"
   ]
  },
  {
   "cell_type": "markdown",
   "id": "a3370c20-3746-453c-8203-1fcd7dac0f4f",
   "metadata": {},
   "source": [
    "## Check rotation"
   ]
  },
  {
   "cell_type": "code",
   "execution_count": 12,
   "id": "2698aeb5-b004-413b-90ab-f156dc97ec28",
   "metadata": {
    "tags": []
   },
   "outputs": [
    {
     "data": {
      "text/plain": [
       "(False, '')"
      ]
     },
     "execution_count": 12,
     "metadata": {},
     "output_type": "execute_result"
    }
   ],
   "source": [
    "await motion.rotate(angle=90.0, angular_speed=20.0, \n",
    "                                 ang_unit=ANG_UNIT.DEG, wait=True)"
   ]
  },
  {
   "cell_type": "markdown",
   "id": "bb3731bf-fa0e-48d7-87b3-0cd9274d2703",
   "metadata": {},
   "source": [
    "## Check moving forward"
   ]
  },
  {
   "cell_type": "code",
   "execution_count": null,
   "id": "ac9e7bfd-4b12-45fb-b7d1-e2029c86186a",
   "metadata": {},
   "outputs": [],
   "source": [
    "await motion.move_linear(distance=0.3, x_velocity=0.2, wait=True)\n"
   ]
  },
  {
   "cell_type": "markdown",
   "id": "4c613192-d298-4f8a-a5ad-3a697cc32ab6",
   "metadata": {},
   "source": [
    "## Check moving backwards"
   ]
  },
  {
   "cell_type": "code",
   "execution_count": null,
   "id": "e629ac7a-9c97-41d4-9d44-63def63ec8d4",
   "metadata": {},
   "outputs": [],
   "source": [
    "await motion.move_linear(distance=0.3, x_velocity=-0.2, wait=True)\n"
   ]
  },
  {
   "cell_type": "code",
   "execution_count": null,
   "id": "4f045a5d-48c8-4030-9682-c506f99ab3e1",
   "metadata": {},
   "outputs": [],
   "source": []
  },
  {
   "cell_type": "code",
   "execution_count": null,
   "id": "b11f5082-9a4a-44ae-b344-a3dde122efcf",
   "metadata": {},
   "outputs": [],
   "source": []
  },
  {
   "cell_type": "markdown",
   "id": "43c1e6ff-7da5-42ab-bffb-f39ef1d718b1",
   "metadata": {
    "tags": []
   },
   "source": [
    "# Checking Cameras"
   ]
  },
  {
   "cell_type": "code",
   "execution_count": null,
   "id": "09d5728a-13e7-4311-a13d-f3ad805708b6",
   "metadata": {
    "tags": []
   },
   "outputs": [],
   "source": [
    "try:\n",
    "    await cameras.enable_color_camera('nav_bottom')\n",
    "except RayaCameraAlreadyEnabled:\n",
    "    pass\n",
    "img = await cameras.get_next_frame('nav_bottom')\n",
    "plt.imshow(cv2.cvtColor(img, cv2.COLOR_BGR2RGB))"
   ]
  },
  {
   "cell_type": "code",
   "execution_count": null,
   "id": "df65166f-b804-4a2f-86ea-30b7f06cee10",
   "metadata": {
    "tags": []
   },
   "outputs": [],
   "source": []
  },
  {
   "cell_type": "code",
   "execution_count": null,
   "id": "346c9fbe-af0d-4e0b-ba3c-35a0ab344b2d",
   "metadata": {
    "tags": []
   },
   "outputs": [],
   "source": [
    "try:\n",
    "    await cameras.enable_color_camera('nav_top')\n",
    "except RayaCameraAlreadyEnabled:\n",
    "    pass\n",
    "img = await cameras.get_next_frame('nav_top')\n",
    "plt.imshow(cv2.cvtColor(img, cv2.COLOR_BGR2RGB))"
   ]
  },
  {
   "cell_type": "code",
   "execution_count": null,
   "id": "e4b5155a-94f5-430f-9742-30f7e3851981",
   "metadata": {},
   "outputs": [],
   "source": []
  },
  {
   "cell_type": "code",
   "execution_count": null,
   "id": "df3ff4f7-e53d-4219-bfd9-a54823d749df",
   "metadata": {},
   "outputs": [],
   "source": []
  },
  {
   "cell_type": "code",
   "execution_count": null,
   "id": "1b5ea672-dabd-437b-a28d-1ddeb4d44ee6",
   "metadata": {},
   "outputs": [],
   "source": []
  },
  {
   "cell_type": "markdown",
   "id": "27ec422f-40be-4a34-ae96-dbe50f1649c2",
   "metadata": {
    "tags": []
   },
   "source": [
    "# Checking Leds"
   ]
  },
  {
   "cell_type": "code",
   "execution_count": null,
   "id": "26fc4efa-a108-46a9-a067-eaeb6591c0ec",
   "metadata": {
    "tags": []
   },
   "outputs": [],
   "source": [
    "await leds.animation('head', 'green_general', 'motion_4_in', 3, 5)\n"
   ]
  },
  {
   "cell_type": "code",
   "execution_count": null,
   "id": "9b4319c1-2eb3-4243-b0bb-3c606ebe5950",
   "metadata": {},
   "outputs": [],
   "source": [
    "await leds.animation('chest', 'blue_pressed', 'motion_2', 3, 5)"
   ]
  },
  {
   "cell_type": "code",
   "execution_count": null,
   "id": "c84f7152-97c3-41e7-a5cd-9cd9b38c2a4c",
   "metadata": {},
   "outputs": [],
   "source": []
  },
  {
   "cell_type": "markdown",
   "id": "1b1f281f-d270-44d0-a7e9-5a25353b9001",
   "metadata": {
    "tags": []
   },
   "source": [
    "# Checking Lidar"
   ]
  },
  {
   "cell_type": "code",
   "execution_count": null,
   "id": "3d1065dc-e2dc-4373-b596-57185cf92362",
   "metadata": {},
   "outputs": [],
   "source": []
  },
  {
   "cell_type": "code",
   "execution_count": null,
   "id": "cff0f58c-fa86-42e9-8d95-318fee2af720",
   "metadata": {
    "tags": []
   },
   "outputs": [],
   "source": [
    "import copy\n",
    "def get_lidar_between(lidar_data,\n",
    "                        lower_angle:float, \n",
    "                        upper_angle:float):\n",
    "        lidar_array = copy.copy(lidar_data)\n",
    "        step_size = 2*np.pi / len(lidar_array)\n",
    "        if lower_angle < 0:\n",
    "            lower_angle = 2 * np.pi + lower_angle \n",
    "            upper_angle = 2 * np.pi + upper_angle\n",
    "        initial_index = math.floor(lower_angle/step_size)\n",
    "        final_index = math.ceil(upper_angle/step_size)\n",
    "        lidar_array += lidar_array\n",
    "        limited_data = lidar_array[initial_index: final_index]\n",
    "        limited_data = np.flip(limited_data)\n",
    "        return limited_data"
   ]
  },
  {
   "cell_type": "code",
   "execution_count": null,
   "id": "cc3cd851-7b7d-466a-b39e-b16bf37f7378",
   "metadata": {},
   "outputs": [],
   "source": []
  },
  {
   "cell_type": "code",
   "execution_count": null,
   "id": "8e65bee7-fbc2-4a1d-a40d-a279e60cbcbd",
   "metadata": {
    "tags": []
   },
   "outputs": [],
   "source": [
    "full_lidar_data = lidar.get_raw_data()"
   ]
  },
  {
   "cell_type": "code",
   "execution_count": null,
   "id": "659b34d9-41c8-4d52-98ed-33874bde236e",
   "metadata": {},
   "outputs": [],
   "source": [
    "lower_angle=np.radians(0)\n",
    "upper_angle=np.radians(360)"
   ]
  },
  {
   "cell_type": "code",
   "execution_count": null,
   "id": "a4a8d725-9e3b-4407-a4e1-2d27c52c4cb4",
   "metadata": {},
   "outputs": [],
   "source": [
    "lidar_data_used = get_lidar_between(full_lidar_data, lower_angle, upper_angle)\n"
   ]
  },
  {
   "cell_type": "code",
   "execution_count": null,
   "id": "15d7067b-e6e7-4459-84b9-ce0393426ba3",
   "metadata": {},
   "outputs": [],
   "source": [
    "fig = plt.figure()\n",
    "ax1 = fig.add_subplot(111, projection='polar')\n",
    "theta = np.linspace(lower_angle, \n",
    "                            upper_angle, \n",
    "                            len(lidar_data_used))\n",
    "        \n",
    "# Plot\n",
    "ax1.clear()\n",
    "ax1.scatter(x=-np.array(theta)-1.578, y=lidar_data_used, s=2)"
   ]
  },
  {
   "cell_type": "code",
   "execution_count": null,
   "id": "63468180-6ac5-4bd3-8d7c-14e376cf2235",
   "metadata": {},
   "outputs": [],
   "source": []
  },
  {
   "cell_type": "code",
   "execution_count": null,
   "id": "4eb81b4f-89b7-4048-a49a-52455fc94022",
   "metadata": {},
   "outputs": [],
   "source": []
  },
  {
   "cell_type": "markdown",
   "id": "625e15be-8edc-49cc-a957-b603c1b0d4ae",
   "metadata": {},
   "source": [
    "# Checking Arm"
   ]
  },
  {
   "cell_type": "code",
   "execution_count": null,
   "id": "2376b5ef-7e21-4c34-ba96-0ded9c0e8e4a",
   "metadata": {},
   "outputs": [],
   "source": [
    "await arms.set_predefined_pose('right_arm','home', wait=True)"
   ]
  },
  {
   "cell_type": "code",
   "execution_count": null,
   "id": "56143452-f63e-4e8e-aaaa-def9b8dee638",
   "metadata": {
    "tags": []
   },
   "outputs": [],
   "source": [
    "await arms.set_predefined_pose('right_arm','pre_pick', wait=True)"
   ]
  },
  {
   "cell_type": "code",
   "execution_count": null,
   "id": "0e615768-e00b-4d3f-b5c8-ace0b83d87ce",
   "metadata": {},
   "outputs": [],
   "source": [
    "await arms.set_predefined_pose('right_arm','pre_step_1', wait=True)"
   ]
  },
  {
   "cell_type": "code",
   "execution_count": null,
   "id": "57dbf330-cf8d-4b62-80fc-8a09de60f899",
   "metadata": {},
   "outputs": [],
   "source": [
    "await arms.set_predefined_pose('right_arm','home', wait=True)"
   ]
  },
  {
   "cell_type": "code",
   "execution_count": null,
   "id": "3b3d4c04-723c-4c10-9d94-89dbaaac3072",
   "metadata": {},
   "outputs": [],
   "source": []
  }
 ],
 "metadata": {
  "kernelspec": {
   "display_name": "Python 3 (ipykernel)",
   "language": "python",
   "name": "python3"
  },
  "language_info": {
   "codemirror_mode": {
    "name": "ipython",
    "version": 3
   },
   "file_extension": ".py",
   "mimetype": "text/x-python",
   "name": "python",
   "nbconvert_exporter": "python",
   "pygments_lexer": "ipython3",
   "version": "3.8.10"
  }
 },
 "nbformat": 4,
 "nbformat_minor": 5
}
