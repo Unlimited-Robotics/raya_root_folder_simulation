{
 "cells": [
  {
   "cell_type": "code",
   "execution_count": 2,
   "id": "563f69c7-84b8-4b5e-af43-56a56b0ba35b",
   "metadata": {},
   "outputs": [],
   "source": [
    "from raya.standalone_handler import StandaloneHandler\n",
    "from raya.exceptions import *\n",
    "from raya.enumerations import ANIMATION_TYPE"
   ]
  },
  {
   "cell_type": "code",
   "execution_count": 3,
   "id": "39544a4f-6981-49fc-8457-1405599a8dfa",
   "metadata": {},
   "outputs": [],
   "source": [
    "raya = StandaloneHandler()\n",
    "await raya.start()"
   ]
  },
  {
   "cell_type": "code",
   "execution_count": 4,
   "id": "616c63b4-3556-4079-a3a5-102cc77205ce",
   "metadata": {},
   "outputs": [],
   "source": [
    "sensors = await raya.enable_controller('sensors')"
   ]
  },
  {
   "cell_type": "code",
   "execution_count": 5,
   "id": "7ecf5031-7f80-4b9d-b5b5-8d9ef8e6d5ab",
   "metadata": {},
   "outputs": [
    {
     "data": {
      "text/plain": [
       "{'temperature': {'max_temp': 0.0, 'shoulder_temp': 0.0},\n",
       " 'compass': {'euler': {'x': 0.0, 'y': 0.0, 'z': 0.0},\n",
       "  'mag': {'x': 0.0, 'y': 0.0, 'z': 0.0},\n",
       "  'acc': {'x': 0.0, 'y': 0.0, 'z': 0.0},\n",
       "  'gyro': {'x': 0.0, 'y': 0.0, 'z': 0.0}},\n",
       " 'srf': {'0': 0.0,\n",
       "  '1': 0.0,\n",
       "  '2': 0.0,\n",
       "  '3': 0.0,\n",
       "  '4': 0.0,\n",
       "  '5': 0.0,\n",
       "  '6': 0.0,\n",
       "  '7': 0.0},\n",
       " 'gyro': {'x': 0.0, 'y': 0.0, 'z': 0.0},\n",
       " 'acc': {'x': 0.0, 'y': 0.0, 'z': 0.0},\n",
       " 'fsrf': {'0': 0.0, '1': 0.0, '2': 0.0, '3': 0.0, '4': 0.0},\n",
       " 'srfs': {'shoulder': {'0': 0.0, '1': 0.0, '2': 0.0, '3': 0.0}},\n",
       " 'current': {'0': 0.0, '1': 0.0, '2': 0.0, '3': 0.0, '4': 0.0},\n",
       " 'enviroment': {'temperature': 16.0,\n",
       "  'pressure': 950.0,\n",
       "  'humidity': 40.0,\n",
       "  'gas_resistance': 0.0,\n",
       "  'altitude': 260.0},\n",
       " 'cart_buttons': {'0': False, '1': False}}"
      ]
     },
     "execution_count": 5,
     "metadata": {},
     "output_type": "execute_result"
    }
   ],
   "source": [
    "sensors.get_all_sensors_values()"
   ]
  },
  {
   "cell_type": "code",
   "execution_count": 12,
   "id": "81cc38e9-6099-4af2-b3cd-de93f6b07f89",
   "metadata": {},
   "outputs": [
    {
     "data": {
      "text/plain": [
       "16.0"
      ]
     },
     "execution_count": 12,
     "metadata": {},
     "output_type": "execute_result"
    }
   ],
   "source": [
    "sensors.get_sensor_value('enviroment/temperature')"
   ]
  },
  {
   "cell_type": "code",
   "execution_count": null,
   "id": "793c9c05-6d49-466a-90d1-064f70685bc3",
   "metadata": {},
   "outputs": [],
   "source": []
  }
 ],
 "metadata": {
  "kernelspec": {
   "display_name": "Python 3 (ipykernel)",
   "language": "python",
   "name": "python3"
  },
  "language_info": {
   "codemirror_mode": {
    "name": "ipython",
    "version": 3
   },
   "file_extension": ".py",
   "mimetype": "text/x-python",
   "name": "python",
   "nbconvert_exporter": "python",
   "pygments_lexer": "ipython3",
   "version": "3.8.10"
  }
 },
 "nbformat": 4,
 "nbformat_minor": 5
}
